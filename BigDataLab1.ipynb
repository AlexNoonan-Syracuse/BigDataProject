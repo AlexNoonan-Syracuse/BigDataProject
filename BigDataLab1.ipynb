{
  "nbformat": 4,
  "nbformat_minor": 0,
  "metadata": {
    "colab": {
      "name": "BigDataLab1.ipynb",
      "provenance": [],
      "collapsed_sections": [],
      "authorship_tag": "ABX9TyO3zbhJqmTRBAuWHtGqMmi2",
      "include_colab_link": true
    },
    "kernelspec": {
      "name": "python3",
      "display_name": "Python 3"
    },
    "language_info": {
      "name": "python"
    }
  },
  "cells": [
    {
      "cell_type": "markdown",
      "metadata": {
        "id": "view-in-github",
        "colab_type": "text"
      },
      "source": [
        "<a href=\"https://colab.research.google.com/github/AlexNoonan-Syracuse/BigDataProject/blob/main/BigDataLab1.ipynb\" target=\"_parent\"><img src=\"https://colab.research.google.com/assets/colab-badge.svg\" alt=\"Open In Colab\"/></a>"
      ]
    },
    {
      "cell_type": "code",
      "metadata": {
        "colab": {
          "base_uri": "https://localhost:8080/"
        },
        "id": "9RQjGgEmspLV",
        "outputId": "435a8a8e-5748-4e22-d947-9717b9ffafd0"
      },
      "source": [
        ""
      ],
      "execution_count": 4,
      "outputs": [
        {
          "output_type": "stream",
          "text": [
            "Requirement already satisfied: fuzzymatcher in /usr/local/lib/python3.7/dist-packages (0.0.5)\n",
            "Requirement already satisfied: python-dateutil in /usr/local/lib/python3.7/dist-packages (from fuzzymatcher) (2.8.1)\n",
            "Requirement already satisfied: pandas in /usr/local/lib/python3.7/dist-packages (from fuzzymatcher) (1.1.5)\n",
            "Requirement already satisfied: metaphone in /usr/local/lib/python3.7/dist-packages (from fuzzymatcher) (0.6)\n",
            "Requirement already satisfied: python-Levenshtein in /usr/local/lib/python3.7/dist-packages (from fuzzymatcher) (0.12.2)\n",
            "Requirement already satisfied: fuzzywuzzy in /usr/local/lib/python3.7/dist-packages (from fuzzymatcher) (0.18.0)\n",
            "Requirement already satisfied: numpy>=1.15.4 in /usr/local/lib/python3.7/dist-packages (from pandas->fuzzymatcher) (1.19.5)\n",
            "Requirement already satisfied: pytz>=2017.2 in /usr/local/lib/python3.7/dist-packages (from pandas->fuzzymatcher) (2018.9)\n",
            "Requirement already satisfied: six>=1.5 in /usr/local/lib/python3.7/dist-packages (from python-dateutil->fuzzymatcher) (1.15.0)\n",
            "Requirement already satisfied: setuptools in /usr/local/lib/python3.7/dist-packages (from python-Levenshtein->fuzzymatcher) (57.2.0)\n"
          ],
          "name": "stdout"
        }
      ]
    },
    {
      "cell_type": "code",
      "metadata": {
        "id": "4g-UQe__qdK2",
        "colab": {
          "base_uri": "https://localhost:8080/"
        },
        "outputId": "a9caff2b-8003-48c3-d8b9-050dda4b7232"
      },
      "source": [
        "import pandas as pd\n",
        "import matplotlib.pyplot as plt\n",
        "import scipy\n",
        "import seaborn as sns\n",
        "from pandas.io.html import read_html\n",
        "import fuzzymatcher\n",
        "\n",
        "# Obtain data and understand elements\n",
        "csvURL = \"https://raw.githubusercontent.com/2SUBDA/IST_718/master/Coaches9.csv\"\n",
        "\n",
        "coaches = pd.read_csv(csvURL)\n",
        "#print(coaches.isna().sum())\n",
        "\n",
        "#print(coaches.head())\n",
        "\n",
        "# cleaning and changing dtype of numeric columns\n",
        "coaches['SchoolPay'] = coaches['SchoolPay'].str.replace(',', '')\n",
        "coaches['SchoolPay'] = coaches['SchoolPay'].str.replace('$', '')\n",
        "coaches['SchoolPay'] = coaches['SchoolPay'].str.replace('--', '')\n",
        "coaches['SchoolPay'] = pd.to_numeric(coaches['SchoolPay'])\n",
        "\n",
        "coaches['TotalPay'] = coaches['TotalPay'].str.replace(',', '')\n",
        "coaches['TotalPay'] = coaches['TotalPay'].str.replace('$', '')\n",
        "coaches['TotalPay'] = coaches['TotalPay'].str.replace('--', '')\n",
        "coaches['TotalPay'] = pd.to_numeric(coaches['TotalPay'])\n",
        "\n",
        "coaches['Bonus'] = coaches['Bonus'].str.replace(',', '')\n",
        "coaches['Bonus'] = coaches['Bonus'].str.replace('$', '')\n",
        "coaches['Bonus'] = coaches['Bonus'].str.replace('--', '')\n",
        "coaches['Bonus'] = pd.to_numeric(coaches['Bonus'])\n",
        "coaches['Bonus'] = coaches['Bonus'].fillna(0)\n",
        "\n",
        "coaches['BonusPaid'] = coaches['BonusPaid'].str.replace(',', '')\n",
        "coaches['BonusPaid'] = coaches['BonusPaid'].str.replace('$', '')\n",
        "coaches['BonusPaid'] = coaches['BonusPaid'].str.replace('--', '')\n",
        "coaches['BonusPaid'] = pd.to_numeric(coaches['BonusPaid'])\n",
        "coaches['BonusPaid'] = coaches['BonusPaid'].fillna(0)\n",
        "\n",
        "coaches['AssistantPay'] = coaches['AssistantPay'].str.replace(',', '')\n",
        "coaches['AssistantPay'] = coaches['AssistantPay'].str.replace('$', '')\n",
        "coaches['AssistantPay'] = coaches['AssistantPay'].str.replace('--', '')\n",
        "coaches['AssistantPay'] = pd.to_numeric(coaches['AssistantPay'])\n",
        "\n",
        "coaches['Buyout'] = coaches['Buyout'].str.replace(',', '')\n",
        "coaches['Buyout'] = coaches['Buyout'].str.replace('$', '')\n",
        "coaches['Buyout'] = coaches['Buyout'].str.replace('--', '')\n",
        "coaches['Buyout'] = pd.to_numeric(coaches['Buyout'])\n",
        "coaches['Buyout'] = coaches['Buyout'].fillna(0)\n",
        "\n",
        "print(coaches.head())"
      ],
      "execution_count": 16,
      "outputs": [
        {
          "output_type": "stream",
          "text": [
            "                  School Conference  ... AssistantPay      Buyout\n",
            "0              Air Force   Mt. West  ...            0         0.0\n",
            "1                  Akron        MAC  ...            0    688500.0\n",
            "2                Alabama        SEC  ...            0  33600000.0\n",
            "3  Alabama at Birmingham      C-USA  ...            0   3847500.0\n",
            "4      Appalachian State   Sun Belt  ...            0   2160417.0\n",
            "\n",
            "[5 rows x 9 columns]\n"
          ],
          "name": "stdout"
        }
      ]
    },
    {
      "cell_type": "code",
      "metadata": {
        "id": "-3T3FnrL4Qkb",
        "colab": {
          "base_uri": "https://localhost:8080/"
        },
        "outputId": "8f9e14d6-3762-475d-b309-1141b6edf537"
      },
      "source": [
        "# pulling in other data sources\n",
        "\n",
        "#stadium capacity\n",
        "\n",
        "page = 'https://www.collegegridirons.com/comparisons-by-capacity/'\n",
        "table1 = read_html(page, index_col=0, attrs={\"class\":\"tableizer-table\"})\n",
        "table1 = pd.DataFrame(table1[0])\n",
        "\n",
        "table1.dtypes"
      ],
      "execution_count": 9,
      "outputs": [
        {
          "output_type": "execute_result",
          "data": {
            "text/plain": [
              "College       object\n",
              "Conference    object\n",
              "Capacity       int64\n",
              "Opened         int64\n",
              "dtype: object"
            ]
          },
          "metadata": {
            "tags": []
          },
          "execution_count": 9
        }
      ]
    },
    {
      "cell_type": "markdown",
      "metadata": {
        "id": "QU0unKALu50K"
      },
      "source": [
        ""
      ]
    },
    {
      "cell_type": "code",
      "metadata": {
        "id": "fgfM_hZZutK1"
      },
      "source": [
        "#win rates \n",
        "table2 = read_html('https://www.ncaa.com/stats/football/fbs/current/team/742')\n",
        "#wikitables = read_html(page, index_col=0, infer_types=False, attrs={\"class\":\"wikitable\"})\n",
        "table2 = pd.DataFrame(table2[0])\n",
        "\n",
        "table3 = read_html('https://www.ncaa.com/stats/football/fbs/current/team/742/p2')\n",
        "table3 = pd.DataFrame(table3[0])\n",
        "table4 = read_html('https://www.ncaa.com/stats/football/fbs/current/team/742/p3')\n",
        "table4 = pd.DataFrame(table4[0])\n",
        "table2 = table2.append(table3)\n",
        "table2 = table2.append(table4)\n",
        "\n",
        "#table2.head()\n"
      ],
      "execution_count": 28,
      "outputs": []
    },
    {
      "cell_type": "code",
      "metadata": {
        "id": "kMLC70k8D_yA"
      },
      "source": [
        "table6 = read_html(\"https://sports.usatoday.com/ncaa/finances\")"
      ],
      "execution_count": null,
      "outputs": []
    },
    {
      "cell_type": "code",
      "metadata": {
        "colab": {
          "base_uri": "https://localhost:8080/"
        },
        "id": "yR_fDcqm3ZS8",
        "outputId": "0d80495d-9535-4cd2-d6b5-408e9de14596"
      },
      "source": [
        "# grad data \n",
        "table5 = pd.read_csv(\"https://raw.githubusercontent.com/AlexNoonan-Syracuse/lab3/main/26801-0001-Data.tsv\", sep=\"\\t\")\n",
        "\n",
        "#print(table5.head())\n",
        "#print(table5.columns)\n",
        "#table5.describe()"
      ],
      "execution_count": 14,
      "outputs": [
        {
          "output_type": "stream",
          "text": [
            "  DATA_TAB_GENERALINFO  SCL_UNITID  ... PUB_AWARD_06  RAW_OR_CI\n",
            "0                           100654  ...            1          1\n",
            "1                           100654  ...            0          2\n",
            "2                           100654  ...            0          2\n",
            "3                           100654  ...            0          2\n",
            "4                           100654  ...            0          2\n",
            "\n",
            "[5 rows x 76 columns]\n",
            "Index(['DATA_TAB_GENERALINFO', 'SCL_UNITID', 'SCL_NAME', 'SPORT_CODE',\n",
            "       'SPORT_NAME', 'ACADEMIC_YEAR', 'SCL_DIV_14', 'SCL_SUB_14',\n",
            "       'CONFNAME_14', 'D1_FB_CONF_14', 'SCL_HBCU', 'SCL_PRIVATE',\n",
            "       'DATA_TAB_MULTIYRRATE', 'MULTIYR_APR_RATE_1000_RAW',\n",
            "       'MULTIYR_APR_RATE_1000_CI', 'MULTIYR_APR_RATE_1000_OFFICIAL',\n",
            "       'MULTIYR_ELIG_RATE', 'MULTIYR_RET_RATE', 'MULTIYR_SQUAD_SIZE',\n",
            "       'DATA_TAB_ANNUALRATE', 'APR_RATE_2014_1000', 'ELIG_RATE_2014',\n",
            "       'RET_RATE_2014', 'NUM_OF_ATHLETES_2014', 'APR_RATE_2013_1000',\n",
            "       'ELIG_RATE_2013', 'RET_RATE_2013', 'NUM_OF_ATHLETES_2013',\n",
            "       'APR_RATE_2012_1000', 'ELIG_RATE_2012', 'RET_RATE_2012',\n",
            "       'NUM_OF_ATHLETES_2012', 'APR_RATE_2011_1000', 'ELIG_RATE_2011',\n",
            "       'RET_RATE_2011', 'NUM_OF_ATHLETES_2011', 'APR_RATE_2010_1000',\n",
            "       'ELIG_RATE_2010', 'RET_RATE_2010', 'NUM_OF_ATHLETES_2010',\n",
            "       'APR_RATE_2009_1000', 'ELIG_RATE_2009', 'RET_RATE_2009',\n",
            "       'NUM_OF_ATHLETES_2009', 'APR_RATE_2008_1000', 'ELIG_RATE_2008',\n",
            "       'RET_RATE_2008', 'NUM_OF_ATHLETES_2008', 'APR_RATE_2007_1000',\n",
            "       'ELIG_RATE_2007', 'RET_RATE_2007', 'NUM_OF_ATHLETES_2007',\n",
            "       'APR_RATE_2006_1000', 'ELIG_RATE_2006', 'RET_RATE_2006',\n",
            "       'NUM_OF_ATHLETES_2006', 'APR_RATE_2005_1000', 'ELIG_RATE_2005',\n",
            "       'RET_RATE_2005', 'NUM_OF_ATHLETES_2005', 'APR_RATE_2004_1000',\n",
            "       'ELIG_RATE_2004', 'RET_RATE_2004', 'NUM_OF_ATHLETES_2004',\n",
            "       'DATA_TAB_PUBLICAWARD', 'PUB_AWARD_15', 'PUB_AWARD_14', 'PUB_AWARD_13',\n",
            "       'PUB_AWARD_12', 'PUB_AWARD_11', 'PUB_AWARD_10', 'PUB_AWARD_09',\n",
            "       'PUB_AWARD_08', 'PUB_AWARD_07', 'PUB_AWARD_06', 'RAW_OR_CI'],\n",
            "      dtype='object')\n"
          ],
          "name": "stdout"
        }
      ]
    },
    {
      "cell_type": "code",
      "metadata": {
        "id": "SsH_pXrx7j3A"
      },
      "source": [
        "# joining coaches to table 1 \n",
        "# maybe do some name normalizing instead\n",
        "\n",
        "left_on1 = [\"School\", \"Conference\"]\n",
        "right_on1 = [\"College\", \"Conference\"]\n",
        "\n",
        "df1 = fuzzymatcher.fuzzy_left_join(coaches,table1, left_on1, right_on1)\n",
        "\n",
        "df2 = df1[df1['best_match_score'] > 0.1 ]\n",
        "\n",
        "df2 = df2.drop(columns=['best_match_score', '__id_left', '__id_right', 'Conference_left','Conference_right'])\n",
        "\n",
        "# joining table 2\n",
        "left_on2 = [\"School\"]\n",
        "right_on2 = [\"Team\"]\n",
        "\n",
        "\n",
        "#df1 = fuzzymatcher.fuzzy_left_join(df1, table2, left_on2, right_on2)\n",
        "\n",
        "\n",
        "# join main df to table 5\n",
        "\n",
        "right_on3 = [\"SCL_NAME\", \"SCL_CONFERENCE\"]\n",
        "#df1 = fuzzymatcher.fuzzy_left_join(df1, table2, left_on1, right_on3)\n",
        "\n",
        "df2\n",
        "\n",
        "table2Names = list(table2['Team'].unique())\n",
        "#print(table2Names)\n",
        "table5Names = list(table5['SCL_NAME'].unique())\n",
        "table1Names = list(table1['College'].unique())\n",
        "#print(table5Names)\n",
        "#print(table1Names)"
      ],
      "execution_count": 27,
      "outputs": []
    },
    {
      "cell_type": "code",
      "metadata": {
        "colab": {
          "base_uri": "https://localhost:8080/",
          "height": 193
        },
        "id": "oj7UwS8do6We",
        "outputId": "83f01851-7320-4cb0-aaf6-c842faaa1d25"
      },
      "source": [
        "print(len(coaches))\n",
        "\n",
        "#print(coaches.dtypes)\n",
        "print(coaches.isna().sum())\n",
        "\n",
        "#coaches.head()\n",
        "# na values in Schoolpay and total pay gotta do something with these.\n",
        "#coaches.loc[coaches['SchoolPay'].isna()]\n",
        "coaches.loc[coaches['TotalPay'].isna()]\n",
        "\n"
      ],
      "execution_count": null,
      "outputs": [
        {
          "output_type": "stream",
          "text": [
            "129\n"
          ],
          "name": "stdout"
        },
        {
          "output_type": "execute_result",
          "data": {
            "text/html": [
              "<div>\n",
              "<style scoped>\n",
              "    .dataframe tbody tr th:only-of-type {\n",
              "        vertical-align: middle;\n",
              "    }\n",
              "\n",
              "    .dataframe tbody tr th {\n",
              "        vertical-align: top;\n",
              "    }\n",
              "\n",
              "    .dataframe thead th {\n",
              "        text-align: right;\n",
              "    }\n",
              "</style>\n",
              "<table border=\"1\" class=\"dataframe\">\n",
              "  <thead>\n",
              "    <tr style=\"text-align: right;\">\n",
              "      <th></th>\n",
              "      <th>School</th>\n",
              "      <th>Conference</th>\n",
              "      <th>Coach</th>\n",
              "      <th>SchoolPay</th>\n",
              "      <th>TotalPay</th>\n",
              "      <th>Bonus</th>\n",
              "      <th>BonusPaid</th>\n",
              "      <th>AssistantPay</th>\n",
              "      <th>Buyout</th>\n",
              "      <th>ConferenceCodes_x</th>\n",
              "      <th>ConferenceCodes_y</th>\n",
              "    </tr>\n",
              "  </thead>\n",
              "  <tbody>\n",
              "    <tr>\n",
              "      <th>47</th>\n",
              "      <td>Rice</td>\n",
              "      <td>C-USA</td>\n",
              "      <td>Mike Bloomgren</td>\n",
              "      <td>NaN</td>\n",
              "      <td>NaN</td>\n",
              "      <td>0.0</td>\n",
              "      <td>0.0</td>\n",
              "      <td>0</td>\n",
              "      <td>0.0</td>\n",
              "      <td>3</td>\n",
              "      <td>3</td>\n",
              "    </tr>\n",
              "    <tr>\n",
              "      <th>75</th>\n",
              "      <td>Brigham Young</td>\n",
              "      <td>Ind.</td>\n",
              "      <td>Kalani Sitake</td>\n",
              "      <td>NaN</td>\n",
              "      <td>NaN</td>\n",
              "      <td>0.0</td>\n",
              "      <td>0.0</td>\n",
              "      <td>0</td>\n",
              "      <td>0.0</td>\n",
              "      <td>6</td>\n",
              "      <td>6</td>\n",
              "    </tr>\n",
              "    <tr>\n",
              "      <th>80</th>\n",
              "      <td>Baylor</td>\n",
              "      <td>Big 12</td>\n",
              "      <td>Matt Rhule</td>\n",
              "      <td>NaN</td>\n",
              "      <td>NaN</td>\n",
              "      <td>0.0</td>\n",
              "      <td>0.0</td>\n",
              "      <td>0</td>\n",
              "      <td>0.0</td>\n",
              "      <td>7</td>\n",
              "      <td>7</td>\n",
              "    </tr>\n",
              "    <tr>\n",
              "      <th>112</th>\n",
              "      <td>Southern Methodist</td>\n",
              "      <td>AAC</td>\n",
              "      <td>Sonny Dykes</td>\n",
              "      <td>NaN</td>\n",
              "      <td>NaN</td>\n",
              "      <td>0.0</td>\n",
              "      <td>0.0</td>\n",
              "      <td>0</td>\n",
              "      <td>0.0</td>\n",
              "      <td>9</td>\n",
              "      <td>9</td>\n",
              "    </tr>\n",
              "  </tbody>\n",
              "</table>\n",
              "</div>"
            ],
            "text/plain": [
              "                 School Conference  ... ConferenceCodes_x  ConferenceCodes_y\n",
              "47                 Rice      C-USA  ...                 3                  3\n",
              "75        Brigham Young       Ind.  ...                 6                  6\n",
              "80               Baylor     Big 12  ...                 7                  7\n",
              "112  Southern Methodist        AAC  ...                 9                  9\n",
              "\n",
              "[4 rows x 11 columns]"
            ]
          },
          "metadata": {
            "tags": []
          },
          "execution_count": 27
        }
      ]
    },
    {
      "cell_type": "code",
      "metadata": {
        "colab": {
          "base_uri": "https://localhost:8080/",
          "height": 766
        },
        "id": "xs8LVZoW8ET6",
        "outputId": "f3c3d3cb-999d-49b7-b72b-7256c1f5eae6"
      },
      "source": [
        "from IPython.core.pylabtools import figsize\n",
        "# descriptive statistics\n",
        "\n",
        "coaches.describe()\n",
        "\n",
        "\n",
        "codes, values = pd.factorize(coaches['Conference'].unique())\n",
        "conferenceIds = pd.DataFrame({\"Conference\":values, \"ConferenceCodes\":codes})\n",
        "coaches = pd.merge(left=coaches, right=conferenceIds, left_on=\"Conference\", right_on = \"Conference\")\n",
        "coaches.head()\n",
        "\n",
        "fig, axs = plt.subplots(2, 1, figsize = (10,12))\n",
        "g1 = sns.scatterplot(x='School', y='SchoolPay', data=coaches, hue='Conference', ec=None, ax=axs[0] )\n",
        "g1.set(xticklabels=[])\n",
        "g1.set(title='Pay by School and Conference')\n",
        "g1.set(xlabel=\"School\")\n",
        "g1.set(xticks=[])\n",
        "g1.set(yticks=[])\n",
        "\n",
        "\n",
        "axs[1].hist(x= coaches['TotalPay'], bins=25)\n",
        "\n",
        "plt.show()\n",
        "print(coaches['TotalPay'].min())\n",
        "print(coaches['TotalPay'].max())\n",
        "\n",
        "# box plots per conference\n"
      ],
      "execution_count": null,
      "outputs": [
        {
          "output_type": "display_data",
          "data": {
            "image/png": "[encoded data removed]",
            "text/plain": [
              "<Figure size 720x864 with 2 Axes>"
            ]
          },
          "metadata": {
            "tags": [],
            "needs_background": "light"
          }
        },
        {
          "output_type": "stream",
          "text": [
            "390000.0\n",
            "8307000.0\n"
          ],
          "name": "stdout"
        }
      ]
    },
    {
      "cell_type": "code",
      "metadata": {
        "colab": {
          "base_uri": "https://localhost:8080/",
          "height": 323
        },
        "id": "p37_kX-uk9z4",
        "outputId": "1697e86e-a471-4299-f762-6aed093bba48"
      },
      "source": [
        "fig, axis = plt.subplots()\n",
        "axis.set_xlabel('Conference')\n",
        "axis.set_ylabel('SchoolPay')\n",
        "axis.set_title(\"School Pay Per Conference\")\n",
        "conference = sns.boxplot(x=\"Conference\", y=\"SchoolPay\", data=coaches, color = \"blue\"  );\n",
        "\n",
        "axis.set_xticklabels(coaches['Conference'].unique())\n",
        "axis.tick_params(axis=\"x\", labelrotation=45 )\n",
        "plt.show()\n",
        "\n"
      ],
      "execution_count": null,
      "outputs": [
        {
          "output_type": "display_data",
          "data": {
            "image/png": "[encoded data removed]",
            "text/plain": [
              "<Figure size 432x288 with 1 Axes>"
            ]
          },
          "metadata": {
            "tags": [],
            "needs_background": "light"
          }
        }
      ]
    },
    {
      "cell_type": "markdown",
      "metadata": {
        "id": "lakkAgV3An5i"
      },
      "source": [
        ""
      ]
    }
  ]
}