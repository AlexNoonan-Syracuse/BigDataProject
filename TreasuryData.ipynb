{
  "nbformat": 4,
  "nbformat_minor": 0,
  "metadata": {
    "colab": {
      "name": "TreasuryData.ipynb",
      "provenance": [],
      "collapsed_sections": []
    },
    "kernelspec": {
      "name": "python3",
      "display_name": "Python 3"
    },
    "language_info": {
      "name": "python"
    }
  },
  "cells": [
    {
      "cell_type": "code",
      "metadata": {
        "id": "BZh2OHJl1_e_"
      },
      "source": [
        "import pandas as pd\n",
        "import requests\n",
        "from bs4 import BeautifulSoup\n",
        "import datetime as dt\n",
        "import numpy as np\n",
        "\n",
        "\n",
        "url = 'https://www.treasury.gov/resource-center/data-chart-center/interest-rates/Pages/TextView.aspx?data=yieldAll'\n",
        "\n",
        "r = requests.get(url)\n",
        "html = r.text"
      ],
      "execution_count": 1,
      "outputs": []
    },
    {
      "cell_type": "code",
      "metadata": {
        "colab": {
          "base_uri": "https://localhost:8080/"
        },
        "id": "mEy-OgJu2HUx",
        "outputId": "8703de6b-5b4f-4982-9a58-e17bad2834bf"
      },
      "source": [
        "# gathering the web page and creating a dataframe of the treasury history\n",
        "soup = BeautifulSoup(html)\n",
        "table = soup.find('table', {\"class\": \"t-chart\"})\n",
        "rows = table.find_all('tr')\n",
        "data = []\n",
        "for row in rows[1:]:\n",
        "    cols = row.find_all('td')\n",
        "    cols = [ele.text.strip() for ele in cols]\n",
        "    data.append([ele for ele in cols if ele])\n",
        "\n",
        "tre_hist = pd.DataFrame(data, columns=['Date', 'One_Mo', 'Two_Mo', 'Three_Mo', 'Six_Mo', 'One_Yr', 'Two_Yr', 'Three_Yr', 'Five_Yr', 'Seven_Yr', 'Ten_Yr', 'Twenty_Yr', 'Thirty_Yr'])\n",
        "\n",
        "tre_hist.replace(to_replace='N/A', value=0, inplace=True)\n",
        "tre_hist = tre_hist.astype({'One_Mo':'float64', 'Two_Mo':'float64', 'Three_Mo':'float64', 'Six_Mo':'float64', 'One_Yr':'float64', 'Two_Yr':'float64', 'Three_Yr':'float64', 'Five_Yr':'float64', 'Seven_Yr':'float64', 'Ten_Yr':'float64', 'Twenty_Yr':'float64', 'Thirty_Yr':'float64'})\n",
        "tre_hist['Date'] = pd.to_datetime(tre_hist['Date'], format=\"%m/%d/%y\")\n",
        "print(tre_hist.head())"
      ],
      "execution_count": 2,
      "outputs": [
        {
          "output_type": "stream",
          "text": [
            "        Date  One_Mo  Two_Mo  Three_Mo  ...  Seven_Yr  Ten_Yr  Twenty_Yr  Thirty_Yr\n",
            "0 1990-01-02     0.0     0.0      7.83  ...      7.98    7.94        0.0       8.00\n",
            "1 1990-01-03     0.0     0.0      7.89  ...      8.04    7.99        0.0       8.04\n",
            "2 1990-01-04     0.0     0.0      7.84  ...      8.02    7.98        0.0       8.04\n",
            "3 1990-01-05     0.0     0.0      7.79  ...      8.03    7.99        0.0       8.06\n",
            "4 1990-01-08     0.0     0.0      7.79  ...      8.05    8.02        0.0       8.09\n",
            "\n",
            "[5 rows x 13 columns]\n"
          ],
          "name": "stdout"
        }
      ]
    }
  ]
}